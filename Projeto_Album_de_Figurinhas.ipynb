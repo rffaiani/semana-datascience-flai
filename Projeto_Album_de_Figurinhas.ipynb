{
  "nbformat": 4,
  "nbformat_minor": 0,
  "metadata": {
    "colab": {
      "name": "Projeto Album de Figurinhas.ipynb",
      "provenance": [],
      "authorship_tag": "ABX9TyOwRiX7hhoZkwALCp0QfYOv",
      "include_colab_link": true
    },
    "kernelspec": {
      "name": "python3",
      "display_name": "Python 3"
    },
    "language_info": {
      "name": "python"
    }
  },
  "cells": [
    {
      "cell_type": "markdown",
      "metadata": {
        "id": "view-in-github",
        "colab_type": "text"
      },
      "source": [
        "<a href=\"https://colab.research.google.com/github/rffaiani/semana-datascience-flai/blob/main/Projeto_Album_de_Figurinhas.ipynb\" target=\"_parent\"><img src=\"https://colab.research.google.com/assets/colab-badge.svg\" alt=\"Open In Colab\"/></a>"
      ]
    },
    {
      "cell_type": "code",
      "metadata": {
        "colab": {
          "base_uri": "https://localhost:8080/"
        },
        "id": "0CTRKKgmUTAR",
        "outputId": "7a2b1174-5574-448d-9af5-8950ef0c39d6"
      },
      "source": [
        "print('Bem-vindos ao Projeto do Album de Figurinhas')"
      ],
      "execution_count": 1,
      "outputs": [
        {
          "output_type": "stream",
          "text": [
            "Bem-vindos ao Projeto do Album de Figurinhas\n"
          ],
          "name": "stdout"
        }
      ]
    },
    {
      "cell_type": "markdown",
      "metadata": {
        "id": "0r5NC8TNUqDy"
      },
      "source": [
        "#Projeto\n",
        "\n",
        "##Projeto Album de Figurinhas"
      ]
    },
    {
      "cell_type": "markdown",
      "metadata": {
        "id": "hOSiMuCuVSt-"
      },
      "source": [
        "#Atribuição de Variáveis"
      ]
    },
    {
      "cell_type": "code",
      "metadata": {
        "colab": {
          "base_uri": "https://localhost:8080/"
        },
        "id": "QfE57gi0U6dd",
        "outputId": "100bc71d-963d-4ca7-ae26-d2caf58ac3c2"
      },
      "source": [
        "professor = 'Prof. Ricardo Rocha'\n",
        "live = \"youtube canal flai\"\n",
        "sobre = \"python para iniciantes\"\n",
        "\n",
        "print(professor, live, sobre)"
      ],
      "execution_count": 3,
      "outputs": [
        {
          "output_type": "stream",
          "text": [
            "Prof. Ricardo Rocha youtube canal flai python para iniciantes\n"
          ],
          "name": "stdout"
        }
      ]
    },
    {
      "cell_type": "code",
      "metadata": {
        "colab": {
          "base_uri": "https://localhost:8080/"
        },
        "id": "_7NbZtjlVr7x",
        "outputId": "3d34469c-cf1a-43ee-eeaf-b2775cc4f453"
      },
      "source": [
        "type(professor)"
      ],
      "execution_count": 4,
      "outputs": [
        {
          "output_type": "execute_result",
          "data": {
            "text/plain": [
              "str"
            ]
          },
          "metadata": {
            "tags": []
          },
          "execution_count": 4
        }
      ]
    },
    {
      "cell_type": "code",
      "metadata": {
        "colab": {
          "base_uri": "https://localhost:8080/"
        },
        "id": "jc6HIbIeVvy-",
        "outputId": "7578a282-39db-4507-8998-3c287161a1db"
      },
      "source": [
        "help(print)\n",
        "#documentação básica do print"
      ],
      "execution_count": 6,
      "outputs": [
        {
          "output_type": "stream",
          "text": [
            "Help on built-in function print in module builtins:\n",
            "\n",
            "print(...)\n",
            "    print(value, ..., sep=' ', end='\\n', file=sys.stdout, flush=False)\n",
            "    \n",
            "    Prints the values to a stream, or to sys.stdout by default.\n",
            "    Optional keyword arguments:\n",
            "    file:  a file-like object (stream); defaults to the current sys.stdout.\n",
            "    sep:   string inserted between values, default a space.\n",
            "    end:   string appended after the last value, default a newline.\n",
            "    flush: whether to forcibly flush the stream.\n",
            "\n"
          ],
          "name": "stdout"
        }
      ]
    },
    {
      "cell_type": "code",
      "metadata": {
        "colab": {
          "base_uri": "https://localhost:8080/"
        },
        "id": "J4IDcz7JWbDd",
        "outputId": "b66211a9-4964-47c1-e6ea-e9b760bad7a6"
      },
      "source": [
        "len(professor)\n",
        "#tamanho - qtde de caracteres"
      ],
      "execution_count": 7,
      "outputs": [
        {
          "output_type": "execute_result",
          "data": {
            "text/plain": [
              "19"
            ]
          },
          "metadata": {
            "tags": []
          },
          "execution_count": 7
        }
      ]
    },
    {
      "cell_type": "code",
      "metadata": {
        "colab": {
          "base_uri": "https://localhost:8080/"
        },
        "id": "BfHzCsNWWj7w",
        "outputId": "91f0b18f-1bf3-4416-d31a-a263633044cb"
      },
      "source": [
        "a = 2\n",
        "b = 3\n",
        "\n",
        "print('Soma', a + b)\n",
        "print('Subtração', a-b)\n",
        "print('Multiplicação', a*b)\n",
        "print('Divisão', a/b)\n",
        "print('Exponenciação', a**b)\n"
      ],
      "execution_count": 8,
      "outputs": [
        {
          "output_type": "stream",
          "text": [
            "Soma 5\n",
            "Subtração -1\n",
            "Multiplicação 6\n",
            "Divisão 0.6666666666666666\n",
            "Exponenciação 8\n"
          ],
          "name": "stdout"
        }
      ]
    },
    {
      "cell_type": "code",
      "metadata": {
        "colab": {
          "base_uri": "https://localhost:8080/"
        },
        "id": "RiJ4nQlCXVEW",
        "outputId": "2025981b-a36d-41dc-dd04-3fdf9ed87239"
      },
      "source": [
        "print('Resto da divisão', b%a)\n",
        "print('Divisão inteira', b//a)"
      ],
      "execution_count": 13,
      "outputs": [
        {
          "output_type": "stream",
          "text": [
            "Resto da divisão 1\n",
            "Divisão inteira 1\n"
          ],
          "name": "stdout"
        }
      ]
    },
    {
      "cell_type": "code",
      "metadata": {
        "colab": {
          "base_uri": "https://localhost:8080/"
        },
        "id": "_AFf2XRhXqZh",
        "outputId": "212135a9-20c1-4036-adfe-3d32bde59cab"
      },
      "source": [
        "True or False\n"
      ],
      "execution_count": 18,
      "outputs": [
        {
          "output_type": "execute_result",
          "data": {
            "text/plain": [
              "True"
            ]
          },
          "metadata": {
            "tags": []
          },
          "execution_count": 18
        }
      ]
    },
    {
      "cell_type": "code",
      "metadata": {
        "colab": {
          "base_uri": "https://localhost:8080/"
        },
        "id": "jmXyGFRnYB1l",
        "outputId": "4c243aca-b3ab-4ac8-e1b2-cf09bf92457f"
      },
      "source": [
        "True and False"
      ],
      "execution_count": 19,
      "outputs": [
        {
          "output_type": "execute_result",
          "data": {
            "text/plain": [
              "False"
            ]
          },
          "metadata": {
            "tags": []
          },
          "execution_count": 19
        }
      ]
    },
    {
      "cell_type": "code",
      "metadata": {
        "colab": {
          "base_uri": "https://localhost:8080/"
        },
        "id": "deW_FTkJYEb_",
        "outputId": "d9b023af-0308-4fd9-98ae-a69d095d4b3f"
      },
      "source": [
        "not True"
      ],
      "execution_count": 20,
      "outputs": [
        {
          "output_type": "execute_result",
          "data": {
            "text/plain": [
              "False"
            ]
          },
          "metadata": {
            "tags": []
          },
          "execution_count": 20
        }
      ]
    },
    {
      "cell_type": "code",
      "metadata": {
        "colab": {
          "base_uri": "https://localhost:8080/"
        },
        "id": "vev-7uzUYGVT",
        "outputId": "86e84bd8-8481-4fae-eeb2-b4a875760c82"
      },
      "source": [
        "# Conectivos lógicos\n",
        "\n",
        "(a == b) or (a < b)"
      ],
      "execution_count": 21,
      "outputs": [
        {
          "output_type": "execute_result",
          "data": {
            "text/plain": [
              "True"
            ]
          },
          "metadata": {
            "tags": []
          },
          "execution_count": 21
        }
      ]
    },
    {
      "cell_type": "code",
      "metadata": {
        "colab": {
          "base_uri": "https://localhost:8080/"
        },
        "id": "S5EeVmfEYUZU",
        "outputId": "74aa6efb-1f24-4b70-c59f-97652254e2fd"
      },
      "source": [
        "a>=b"
      ],
      "execution_count": 22,
      "outputs": [
        {
          "output_type": "execute_result",
          "data": {
            "text/plain": [
              "False"
            ]
          },
          "metadata": {
            "tags": []
          },
          "execution_count": 22
        }
      ]
    },
    {
      "cell_type": "code",
      "metadata": {
        "colab": {
          "base_uri": "https://localhost:8080/"
        },
        "id": "dxF_6kZRYio0",
        "outputId": "8b657f8b-c93d-44ba-9d81-cee10d4b8471"
      },
      "source": [
        "a != b"
      ],
      "execution_count": 23,
      "outputs": [
        {
          "output_type": "execute_result",
          "data": {
            "text/plain": [
              "True"
            ]
          },
          "metadata": {
            "tags": []
          },
          "execution_count": 23
        }
      ]
    },
    {
      "cell_type": "code",
      "metadata": {
        "id": "yuc0nGVkYkwN"
      },
      "source": [
        "# Booleanos é importante para condicionais.\n"
      ],
      "execution_count": 24,
      "outputs": []
    },
    {
      "cell_type": "code",
      "metadata": {
        "id": "xJqGKj_UYrHG"
      },
      "source": [
        "#programinha para calcular equação do segundo grau =>  $$ a x^2 + b x + c = 0 $$"
      ],
      "execution_count": null,
      "outputs": []
    },
    {
      "cell_type": "markdown",
      "metadata": {
        "id": "qKBOGtndZ03Y"
      },
      "source": [
        "#Programinha para calcular equação do segundo grau:\n",
        "\n",
        "$$ a x^2 + b x + c = 0 $$"
      ]
    },
    {
      "cell_type": "code",
      "metadata": {
        "colab": {
          "base_uri": "https://localhost:8080/"
        },
        "id": "uO2eMbZoZ6UQ",
        "outputId": "28998054-fd68-4c78-eaf5-885a9007a7f9"
      },
      "source": [
        "a, b, c = 1, 2, -1\n",
        "\n",
        "delta = b**2 - 4*a*c\n",
        "\n",
        "if delta > 0:\n",
        "  x1 = round((-b + delta**(1/2)) / (2*a), 3)\n",
        "  x2 = round((-b - delta**(1/2)) / (2*a), 3)\n",
        "  print('As raízes são: {} e {}' .format(x1,x2))\n",
        "elif delta == 0:\n",
        "  x = round(-b/(2*a), 3)\n",
        "else:\n",
        "  print('A equação não possui raízes reais.')\n"
      ],
      "execution_count": 31,
      "outputs": [
        {
          "output_type": "stream",
          "text": [
            "As raízes são: 0.414 e -2.414\n"
          ],
          "name": "stdout"
        }
      ]
    },
    {
      "cell_type": "code",
      "metadata": {
        "colab": {
          "base_uri": "https://localhost:8080/"
        },
        "id": "BVLQGI8ObYXn",
        "outputId": "93c97569-14c1-46f1-bf95-c29f8408f8a4"
      },
      "source": [
        "#definição de funções\n",
        "\n",
        "def Minhafuncao():\n",
        "  print('***************')\n",
        "  print('Rafael')\n",
        "\n",
        "Minhafuncao()"
      ],
      "execution_count": 32,
      "outputs": [
        {
          "output_type": "stream",
          "text": [
            "***************\n",
            "Rafael\n"
          ],
          "name": "stdout"
        }
      ]
    },
    {
      "cell_type": "code",
      "metadata": {
        "id": "n6-vGeQDb5JW"
      },
      "source": [
        "\n",
        "def Bhaskara(a,b,c):\n",
        "  \n",
        "  delta = b**2 - 4*a*c\n",
        "\n",
        "  if delta > 0:\n",
        "    x1 = round((-b + delta**(1/2)) / (2*a), 3)\n",
        "    x2 = round((-b - delta**(1/2)) / (2*a), 3)\n",
        "    print('As raízes são: {} e {}' .format(x1,x2))\n",
        "  elif delta == 0:\n",
        "    x = round(-b/(2*a), 3)\n",
        "  else:\n",
        "    print('A equação não possui raízes reais.')\n"
      ],
      "execution_count": 36,
      "outputs": []
    },
    {
      "cell_type": "code",
      "metadata": {
        "colab": {
          "base_uri": "https://localhost:8080/"
        },
        "id": "k1I-piKWcwht",
        "outputId": "b7209eec-d975-4dbe-a833-6b26ea0fd546"
      },
      "source": [
        "Bhaskara(a=1,b=2,c=-1)"
      ],
      "execution_count": 37,
      "outputs": [
        {
          "output_type": "stream",
          "text": [
            "As raízes são: 0.414 e -2.414\n"
          ],
          "name": "stdout"
        }
      ]
    },
    {
      "cell_type": "code",
      "metadata": {
        "id": "n9xoOuNuc6Wb"
      },
      "source": [
        "# Listas\n",
        "\n",
        "lista = ['Rafael', 28, Bhaskara]"
      ],
      "execution_count": 41,
      "outputs": []
    },
    {
      "cell_type": "code",
      "metadata": {
        "colab": {
          "base_uri": "https://localhost:8080/"
        },
        "id": "6skUJ0BpdXjV",
        "outputId": "3709ecab-3e7f-434c-8d5c-5350277cc8cb"
      },
      "source": [
        "lista[1]"
      ],
      "execution_count": 42,
      "outputs": [
        {
          "output_type": "execute_result",
          "data": {
            "text/plain": [
              "28"
            ]
          },
          "metadata": {
            "tags": []
          },
          "execution_count": 42
        }
      ]
    },
    {
      "cell_type": "code",
      "metadata": {
        "colab": {
          "base_uri": "https://localhost:8080/"
        },
        "id": "D7SZvEAXdb4h",
        "outputId": "9461e82a-8fa9-4897-c3fc-205971098401"
      },
      "source": [
        "lista[2]"
      ],
      "execution_count": 43,
      "outputs": [
        {
          "output_type": "execute_result",
          "data": {
            "text/plain": [
              "<function __main__.Bhaskara>"
            ]
          },
          "metadata": {
            "tags": []
          },
          "execution_count": 43
        }
      ]
    },
    {
      "cell_type": "code",
      "metadata": {
        "colab": {
          "base_uri": "https://localhost:8080/"
        },
        "id": "WZtlODJtdcAj",
        "outputId": "96db1eab-7f16-4e8f-c88c-9988ba517f68"
      },
      "source": [
        "lista[2](a=1,b=2,c=3)"
      ],
      "execution_count": 44,
      "outputs": [
        {
          "output_type": "stream",
          "text": [
            "A equação não possui raízes reais.\n"
          ],
          "name": "stdout"
        }
      ]
    },
    {
      "cell_type": "code",
      "metadata": {
        "id": "653oDa77dcLD"
      },
      "source": [
        "lista = ['Rafael', 28, Bhaskara, [1,2,3]]"
      ],
      "execution_count": 45,
      "outputs": []
    },
    {
      "cell_type": "code",
      "metadata": {
        "colab": {
          "base_uri": "https://localhost:8080/"
        },
        "id": "ra5DRcUneAef",
        "outputId": "5ce5fcf9-e78e-4fcd-d78f-d94a4445ac08"
      },
      "source": [
        "lista[3]"
      ],
      "execution_count": 46,
      "outputs": [
        {
          "output_type": "execute_result",
          "data": {
            "text/plain": [
              "[1, 2, 3]"
            ]
          },
          "metadata": {
            "tags": []
          },
          "execution_count": 46
        }
      ]
    },
    {
      "cell_type": "code",
      "metadata": {
        "colab": {
          "base_uri": "https://localhost:8080/"
        },
        "id": "PbqKxbU8eFr3",
        "outputId": "ec8a919c-daa1-428f-8512-31849a218eb1"
      },
      "source": [
        "lista[3][2]"
      ],
      "execution_count": 48,
      "outputs": [
        {
          "output_type": "execute_result",
          "data": {
            "text/plain": [
              "3"
            ]
          },
          "metadata": {
            "tags": []
          },
          "execution_count": 48
        }
      ]
    },
    {
      "cell_type": "code",
      "metadata": {
        "id": "eBjFBcVKeFwv"
      },
      "source": [
        "lista2 = list('Rafael')"
      ],
      "execution_count": 49,
      "outputs": []
    },
    {
      "cell_type": "code",
      "metadata": {
        "colab": {
          "base_uri": "https://localhost:8080/"
        },
        "id": "9gOZir6HeFz0",
        "outputId": "9f4a8415-83d8-4531-e09c-f788ebade3b3"
      },
      "source": [
        "lista2"
      ],
      "execution_count": 50,
      "outputs": [
        {
          "output_type": "execute_result",
          "data": {
            "text/plain": [
              "['R', 'a', 'f', 'a', 'e', 'l']"
            ]
          },
          "metadata": {
            "tags": []
          },
          "execution_count": 50
        }
      ]
    },
    {
      "cell_type": "code",
      "metadata": {
        "colab": {
          "base_uri": "https://localhost:8080/"
        },
        "id": "g_1FuSEteVuo",
        "outputId": "d2f1c2f1-6626-4aa6-ab40-824baac3d126"
      },
      "source": [
        "#pegar tudo até a 2a. posição\n",
        "\n",
        "lista2[:2]\n"
      ],
      "execution_count": 51,
      "outputs": [
        {
          "output_type": "execute_result",
          "data": {
            "text/plain": [
              "['R', 'a']"
            ]
          },
          "metadata": {
            "tags": []
          },
          "execution_count": 51
        }
      ]
    },
    {
      "cell_type": "code",
      "metadata": {
        "colab": {
          "base_uri": "https://localhost:8080/"
        },
        "id": "duBMmQMYeVxJ",
        "outputId": "9bea68f5-39dd-429d-ea77-98fad1d4cf68"
      },
      "source": [
        "lista2[::2]"
      ],
      "execution_count": 52,
      "outputs": [
        {
          "output_type": "execute_result",
          "data": {
            "text/plain": [
              "['R', 'f', 'e']"
            ]
          },
          "metadata": {
            "tags": []
          },
          "execution_count": 52
        }
      ]
    },
    {
      "cell_type": "markdown",
      "metadata": {
        "id": "hCthj8btepdo"
      },
      "source": [
        "#importação de bibliotecas"
      ]
    },
    {
      "cell_type": "code",
      "metadata": {
        "id": "9BQrKJbueV2f"
      },
      "source": [
        "from math import pi, sqrt"
      ],
      "execution_count": 55,
      "outputs": []
    },
    {
      "cell_type": "code",
      "metadata": {
        "colab": {
          "base_uri": "https://localhost:8080/"
        },
        "id": "-vd_OwCOer6k",
        "outputId": "a18d8b74-cff3-424e-8e7e-0b3f967aee51"
      },
      "source": [
        "pi\n"
      ],
      "execution_count": 54,
      "outputs": [
        {
          "output_type": "execute_result",
          "data": {
            "text/plain": [
              "3.141592653589793"
            ]
          },
          "metadata": {
            "tags": []
          },
          "execution_count": 54
        }
      ]
    },
    {
      "cell_type": "code",
      "metadata": {
        "colab": {
          "base_uri": "https://localhost:8080/"
        },
        "id": "k6Ivwdg7er_C",
        "outputId": "36925360-5856-4b58-8d06-606f68ed5979"
      },
      "source": [
        "sqrt(5)"
      ],
      "execution_count": 56,
      "outputs": [
        {
          "output_type": "execute_result",
          "data": {
            "text/plain": [
              "2.23606797749979"
            ]
          },
          "metadata": {
            "tags": []
          },
          "execution_count": 56
        }
      ]
    },
    {
      "cell_type": "code",
      "metadata": {
        "id": "ktMQL9qCeV8K"
      },
      "source": [
        "import math as m"
      ],
      "execution_count": 59,
      "outputs": []
    },
    {
      "cell_type": "code",
      "metadata": {
        "colab": {
          "base_uri": "https://localhost:8080/"
        },
        "id": "ZB5Q5HEif835",
        "outputId": "1b32d240-41ff-40b2-ac0b-e71354fbac39"
      },
      "source": [
        "m.ceil(2.3)"
      ],
      "execution_count": 60,
      "outputs": [
        {
          "output_type": "execute_result",
          "data": {
            "text/plain": [
              "3"
            ]
          },
          "metadata": {
            "tags": []
          },
          "execution_count": 60
        }
      ]
    },
    {
      "cell_type": "code",
      "metadata": {
        "colab": {
          "base_uri": "https://localhost:8080/"
        },
        "id": "FBUqcAvbf8_K",
        "outputId": "ae2aa765-7f9f-4a41-eed8-8a8cffcc2d32"
      },
      "source": [
        "m.floor(2.3)"
      ],
      "execution_count": 61,
      "outputs": [
        {
          "output_type": "execute_result",
          "data": {
            "text/plain": [
              "2"
            ]
          },
          "metadata": {
            "tags": []
          },
          "execution_count": 61
        }
      ]
    },
    {
      "cell_type": "code",
      "metadata": {
        "id": "HTQ90fvxf9E5"
      },
      "source": [
        "#teto e chão"
      ],
      "execution_count": null,
      "outputs": []
    },
    {
      "cell_type": "markdown",
      "metadata": {
        "id": "p-HO50rigOnr"
      },
      "source": [
        "#Biblioteca Numpy"
      ]
    },
    {
      "cell_type": "code",
      "metadata": {
        "id": "Sni3bnINf9ID"
      },
      "source": [
        "import numpy as np"
      ],
      "execution_count": 63,
      "outputs": []
    },
    {
      "cell_type": "code",
      "metadata": {
        "colab": {
          "base_uri": "https://localhost:8080/"
        },
        "id": "PnxUwr6GgVu3",
        "outputId": "0fe31fef-14e0-4b43-ced1-641f6a662a1f"
      },
      "source": [
        "np.array([1,2,3,4])"
      ],
      "execution_count": 64,
      "outputs": [
        {
          "output_type": "execute_result",
          "data": {
            "text/plain": [
              "array([1, 2, 3, 4])"
            ]
          },
          "metadata": {
            "tags": []
          },
          "execution_count": 64
        }
      ]
    },
    {
      "cell_type": "code",
      "metadata": {
        "colab": {
          "base_uri": "https://localhost:8080/"
        },
        "id": "mkFPY6hYgVxm",
        "outputId": "1f734c0e-fb1b-4e0d-fed4-5c6cfe1078e5"
      },
      "source": [
        "3 * np.array([1,2,3,4])"
      ],
      "execution_count": 65,
      "outputs": [
        {
          "output_type": "execute_result",
          "data": {
            "text/plain": [
              "array([ 3,  6,  9, 12])"
            ]
          },
          "metadata": {
            "tags": []
          },
          "execution_count": 65
        }
      ]
    },
    {
      "cell_type": "code",
      "metadata": {
        "colab": {
          "base_uri": "https://localhost:8080/"
        },
        "id": "RhAmgzLegV0g",
        "outputId": "6aa5b91a-6f7c-4efa-a720-d1ef4e398ce1"
      },
      "source": [
        "2.2 + np.array([1,2,3,4])"
      ],
      "execution_count": 67,
      "outputs": [
        {
          "output_type": "execute_result",
          "data": {
            "text/plain": [
              "array([3.2, 4.2, 5.2, 6.2])"
            ]
          },
          "metadata": {
            "tags": []
          },
          "execution_count": 67
        }
      ]
    },
    {
      "cell_type": "code",
      "metadata": {
        "colab": {
          "base_uri": "https://localhost:8080/"
        },
        "id": "r1Ki5PvtgV3X",
        "outputId": "aa621ac2-49c6-4ac7-c554-2cc0b6044d2b"
      },
      "source": [
        "np.array( [[1,2,3,4] , [5,6,7,8]] )"
      ],
      "execution_count": 69,
      "outputs": [
        {
          "output_type": "execute_result",
          "data": {
            "text/plain": [
              "array([[1, 2, 3, 4],\n",
              "       [5, 6, 7, 8]])"
            ]
          },
          "metadata": {
            "tags": []
          },
          "execution_count": 69
        }
      ]
    },
    {
      "cell_type": "code",
      "metadata": {
        "colab": {
          "base_uri": "https://localhost:8080/"
        },
        "id": "Q7O9y1rngV6D",
        "outputId": "485a5a73-30d4-4379-9dee-0aa350eba853"
      },
      "source": [
        "#cria repetição de números\n",
        "np.arange(10, 30)"
      ],
      "execution_count": 72,
      "outputs": [
        {
          "output_type": "execute_result",
          "data": {
            "text/plain": [
              "array([10, 11, 12, 13, 14, 15, 16, 17, 18, 19, 20, 21, 22, 23, 24, 25, 26,\n",
              "       27, 28, 29])"
            ]
          },
          "metadata": {
            "tags": []
          },
          "execution_count": 72
        }
      ]
    },
    {
      "cell_type": "code",
      "metadata": {
        "colab": {
          "base_uri": "https://localhost:8080/"
        },
        "id": "cf4tNb7JgV8x",
        "outputId": "645d3c70-d5cd-4d77-9ea7-0a52eaf30830"
      },
      "source": [
        "np.arange(10, 30,2)"
      ],
      "execution_count": 73,
      "outputs": [
        {
          "output_type": "execute_result",
          "data": {
            "text/plain": [
              "array([10, 12, 14, 16, 18, 20, 22, 24, 26, 28])"
            ]
          },
          "metadata": {
            "tags": []
          },
          "execution_count": 73
        }
      ]
    },
    {
      "cell_type": "code",
      "metadata": {
        "colab": {
          "base_uri": "https://localhost:8080/"
        },
        "id": "MwL4FjZ6hPEV",
        "outputId": "2c1be93b-bf99-41f9-c402-65bc63455077"
      },
      "source": [
        "#dado o vetor vai tirar uma amostra com 3 números.\n",
        "\n",
        "np.random.choice([1,2,3,4,5], size = 3)"
      ],
      "execution_count": 74,
      "outputs": [
        {
          "output_type": "execute_result",
          "data": {
            "text/plain": [
              "array([3, 4, 4])"
            ]
          },
          "metadata": {
            "tags": []
          },
          "execution_count": 74
        }
      ]
    },
    {
      "cell_type": "code",
      "metadata": {
        "colab": {
          "base_uri": "https://localhost:8080/"
        },
        "id": "xtD3twoOhPG8",
        "outputId": "a8ce8248-bec1-4e8b-8e89-5752bae7507f"
      },
      "source": [
        "#album 212 figurinhas\n",
        "x = np.arange(1, 213)\n",
        "np.random.choice(x, size = 4) #representando a abertura de 1 pacote com 4 figurinhas.\n"
      ],
      "execution_count": 76,
      "outputs": [
        {
          "output_type": "execute_result",
          "data": {
            "text/plain": [
              "array([ 93,  50, 113, 174])"
            ]
          },
          "metadata": {
            "tags": []
          },
          "execution_count": 76
        }
      ]
    },
    {
      "cell_type": "code",
      "metadata": {
        "colab": {
          "base_uri": "https://localhost:8080/"
        },
        "id": "4RiM0U21hPKD",
        "outputId": "b7a527ef-4011-4287-a668-34abbbad1d72"
      },
      "source": [
        "#numpy all trata de booleanos (lista de booleanos)\n",
        "np.all([True, True, True])"
      ],
      "execution_count": 77,
      "outputs": [
        {
          "output_type": "execute_result",
          "data": {
            "text/plain": [
              "True"
            ]
          },
          "metadata": {
            "tags": []
          },
          "execution_count": 77
        }
      ]
    },
    {
      "cell_type": "code",
      "metadata": {
        "colab": {
          "base_uri": "https://localhost:8080/"
        },
        "id": "dJ5VkqRlhPMb",
        "outputId": "4baa09d0-6e04-4dae-8a38-7692fc63f531"
      },
      "source": [
        "np.all([True, True, False])"
      ],
      "execution_count": 78,
      "outputs": [
        {
          "output_type": "execute_result",
          "data": {
            "text/plain": [
              "False"
            ]
          },
          "metadata": {
            "tags": []
          },
          "execution_count": 78
        }
      ]
    },
    {
      "cell_type": "code",
      "metadata": {
        "colab": {
          "base_uri": "https://localhost:8080/"
        },
        "id": "HbTaTXpyiNHQ",
        "outputId": "b68dbf22-92c2-40f3-f2a1-9e594d832cf7"
      },
      "source": [
        "#numpy any - se pelo menos 1 for True dá True\n",
        "np.any([True, False, False])"
      ],
      "execution_count": 79,
      "outputs": [
        {
          "output_type": "execute_result",
          "data": {
            "text/plain": [
              "True"
            ]
          },
          "metadata": {
            "tags": []
          },
          "execution_count": 79
        }
      ]
    },
    {
      "cell_type": "markdown",
      "metadata": {
        "id": "9zTy6YFkicyP"
      },
      "source": [
        "#Iteradores"
      ]
    },
    {
      "cell_type": "code",
      "metadata": {
        "colab": {
          "base_uri": "https://localhost:8080/"
        },
        "id": "XhCWmmRPiNKM",
        "outputId": "c1c37137-307e-4f28-efd4-485ab282cc81"
      },
      "source": [
        "#FOR\n",
        "\n",
        "for i in [1,2,3,4,5]:\n",
        "  print(i**2)"
      ],
      "execution_count": 80,
      "outputs": [
        {
          "output_type": "stream",
          "text": [
            "1\n",
            "4\n",
            "9\n",
            "16\n",
            "25\n"
          ],
          "name": "stdout"
        }
      ]
    },
    {
      "cell_type": "code",
      "metadata": {
        "colab": {
          "base_uri": "https://localhost:8080/"
        },
        "id": "VtWQkEpRiNNB",
        "outputId": "afae0a28-00a1-4274-bd7e-b620b05095be"
      },
      "source": [
        "for i in [1,2,3,4,5]: #5 iterações\n",
        "  print(np.random.choice(x, size = 4))"
      ],
      "execution_count": 81,
      "outputs": [
        {
          "output_type": "stream",
          "text": [
            "[ 71 145 198 109]\n",
            "[164 114  74 119]\n",
            "[131 180 134  82]\n",
            "[147 138 140  72]\n",
            "[171 198 152 184]\n"
          ],
          "name": "stdout"
        }
      ]
    },
    {
      "cell_type": "code",
      "metadata": {
        "colab": {
          "base_uri": "https://localhost:8080/"
        },
        "id": "xYCv7ES6iNPv",
        "outputId": "d9763a3a-b0e3-46e3-a746-392eb50b91ce"
      },
      "source": [
        "for i in np.arange(0,10): #10 iterações\n",
        "  print(np.random.choice(x, size = 4))"
      ],
      "execution_count": 83,
      "outputs": [
        {
          "output_type": "stream",
          "text": [
            "[111  88 100  22]\n",
            "[179 205  21 189]\n",
            "[ 65  51 191 208]\n",
            "[ 40 116 145 196]\n",
            "[122  34  53  44]\n",
            "[201 167  12 120]\n",
            "[124 201  53 138]\n",
            "[ 76  49 172  59]\n",
            "[ 55 129  42 205]\n",
            "[ 69 181 147 176]\n"
          ],
          "name": "stdout"
        }
      ]
    },
    {
      "cell_type": "code",
      "metadata": {
        "colab": {
          "base_uri": "https://localhost:8080/"
        },
        "id": "5_JvdrMViNSv",
        "outputId": "1523f275-880f-4413-b61a-05769b0e4726"
      },
      "source": [
        "#WHILE\n",
        "\n",
        "contador = 0\n",
        "while True:\n",
        "  contador = contador + 1\n",
        "  print(contador*2)\n",
        "  if contador == 10:\n",
        "    break"
      ],
      "execution_count": 85,
      "outputs": [
        {
          "output_type": "stream",
          "text": [
            "2\n",
            "4\n",
            "6\n",
            "8\n",
            "10\n",
            "12\n",
            "14\n",
            "16\n",
            "18\n",
            "20\n"
          ],
          "name": "stdout"
        }
      ]
    },
    {
      "cell_type": "code",
      "metadata": {
        "colab": {
          "base_uri": "https://localhost:8080/"
        },
        "id": "zGS6DB9DhPRu",
        "outputId": "b7b0929f-f9a9-4021-b0b2-53bdfc5137c8"
      },
      "source": [
        "contador = 0\n",
        "while contador < 10:\n",
        "  contador = contador + 1\n",
        "  print(contador*2)\n",
        "\n",
        "  if contador == 10:\n",
        "    break"
      ],
      "execution_count": 88,
      "outputs": [
        {
          "output_type": "stream",
          "text": [
            "2\n",
            "4\n",
            "6\n",
            "8\n",
            "10\n",
            "12\n",
            "14\n",
            "16\n",
            "18\n",
            "20\n"
          ],
          "name": "stdout"
        }
      ]
    },
    {
      "cell_type": "markdown",
      "metadata": {
        "id": "U_cglY2NkQZi"
      },
      "source": [
        "#PROJETO ALBUM DE FIGURINHAS.............................\n",
        "\n",
        "Total de cromos: 212\n",
        "\n",
        "Suposições:\n",
        "1. Todas as figurinhas tem a possibilidade de serem sorteadas.\n",
        "2. Um pacotinho é comprado por vez até que se complete o albúm.\n",
        "\n",
        "ALGORITMO:\n",
        "\n",
        "RESPONDER PERGUNTAS:"
      ]
    },
    {
      "cell_type": "code",
      "metadata": {
        "id": "Y6Ry-LMAhPUW"
      },
      "source": [
        "n_album = 212\n",
        "preco_pacote = 4\n",
        "cromos_pacote = 4\n",
        "preco_album = 10\n",
        "\n"
      ],
      "execution_count": 89,
      "outputs": []
    },
    {
      "cell_type": "code",
      "metadata": {
        "colab": {
          "base_uri": "https://localhost:8080/"
        },
        "id": "q1q46FYmlPEO",
        "outputId": "890e7018-f8b8-4993-bf25-517571b3988a"
      },
      "source": [
        "album = np.zeros(n_album)\n",
        "album"
      ],
      "execution_count": 90,
      "outputs": [
        {
          "output_type": "execute_result",
          "data": {
            "text/plain": [
              "array([0., 0., 0., 0., 0., 0., 0., 0., 0., 0., 0., 0., 0., 0., 0., 0., 0.,\n",
              "       0., 0., 0., 0., 0., 0., 0., 0., 0., 0., 0., 0., 0., 0., 0., 0., 0.,\n",
              "       0., 0., 0., 0., 0., 0., 0., 0., 0., 0., 0., 0., 0., 0., 0., 0., 0.,\n",
              "       0., 0., 0., 0., 0., 0., 0., 0., 0., 0., 0., 0., 0., 0., 0., 0., 0.,\n",
              "       0., 0., 0., 0., 0., 0., 0., 0., 0., 0., 0., 0., 0., 0., 0., 0., 0.,\n",
              "       0., 0., 0., 0., 0., 0., 0., 0., 0., 0., 0., 0., 0., 0., 0., 0., 0.,\n",
              "       0., 0., 0., 0., 0., 0., 0., 0., 0., 0., 0., 0., 0., 0., 0., 0., 0.,\n",
              "       0., 0., 0., 0., 0., 0., 0., 0., 0., 0., 0., 0., 0., 0., 0., 0., 0.,\n",
              "       0., 0., 0., 0., 0., 0., 0., 0., 0., 0., 0., 0., 0., 0., 0., 0., 0.,\n",
              "       0., 0., 0., 0., 0., 0., 0., 0., 0., 0., 0., 0., 0., 0., 0., 0., 0.,\n",
              "       0., 0., 0., 0., 0., 0., 0., 0., 0., 0., 0., 0., 0., 0., 0., 0., 0.,\n",
              "       0., 0., 0., 0., 0., 0., 0., 0., 0., 0., 0., 0., 0., 0., 0., 0., 0.,\n",
              "       0., 0., 0., 0., 0., 0., 0., 0.])"
            ]
          },
          "metadata": {
            "tags": []
          },
          "execution_count": 90
        }
      ]
    },
    {
      "cell_type": "code",
      "metadata": {
        "id": "MY_mc4-TlPGq"
      },
      "source": [
        "#comprar 1 pacote\n",
        "\n",
        "pacotinho = np.random.choice(np.arange(0, n_album), size = 4)"
      ],
      "execution_count": 100,
      "outputs": []
    },
    {
      "cell_type": "code",
      "metadata": {
        "colab": {
          "base_uri": "https://localhost:8080/"
        },
        "id": "u_CwJFbzlPJb",
        "outputId": "58d4428d-c9bb-4eda-90e2-ea15afd7fb39"
      },
      "source": [
        "pacotinho"
      ],
      "execution_count": 101,
      "outputs": [
        {
          "output_type": "execute_result",
          "data": {
            "text/plain": [
              "array([  2,  29,   5, 126])"
            ]
          },
          "metadata": {
            "tags": []
          },
          "execution_count": 101
        }
      ]
    },
    {
      "cell_type": "code",
      "metadata": {
        "colab": {
          "base_uri": "https://localhost:8080/"
        },
        "id": "IRYXnk_ClPMJ",
        "outputId": "2bb61fdd-6e63-461c-f311-d362bfec31ca"
      },
      "source": [
        "#colar no album\n",
        "\n",
        "album[pacotinho[0]] += 1\n",
        "album[pacotinho[1]] += 1\n",
        "album[pacotinho[2]] += 1\n",
        "album[pacotinho[3]] += 1\n",
        "\n",
        "album\n"
      ],
      "execution_count": 102,
      "outputs": [
        {
          "output_type": "execute_result",
          "data": {
            "text/plain": [
              "array([0., 0., 1., 0., 0., 1., 0., 0., 0., 0., 0., 0., 0., 0., 0., 0., 0.,\n",
              "       0., 0., 0., 0., 0., 0., 0., 0., 0., 0., 0., 0., 1., 0., 0., 0., 0.,\n",
              "       0., 0., 0., 0., 0., 0., 0., 0., 0., 0., 0., 0., 1., 0., 0., 0., 0.,\n",
              "       1., 0., 0., 0., 0., 0., 0., 0., 0., 0., 0., 0., 0., 0., 0., 0., 0.,\n",
              "       0., 0., 0., 0., 0., 0., 0., 0., 0., 0., 0., 0., 0., 0., 0., 0., 0.,\n",
              "       0., 0., 0., 0., 0., 0., 0., 0., 0., 0., 0., 0., 0., 0., 0., 0., 0.,\n",
              "       0., 0., 0., 0., 0., 0., 0., 1., 0., 0., 0., 0., 0., 0., 0., 0., 0.,\n",
              "       0., 0., 5., 1., 0., 0., 0., 1., 0., 0., 0., 0., 0., 0., 0., 0., 0.,\n",
              "       0., 0., 0., 0., 0., 0., 0., 0., 0., 0., 0., 0., 0., 1., 0., 0., 0.,\n",
              "       0., 0., 0., 0., 0., 0., 0., 0., 0., 0., 0., 0., 0., 0., 0., 0., 0.,\n",
              "       0., 0., 0., 0., 0., 0., 0., 0., 0., 1., 0., 0., 0., 0., 0., 0., 0.,\n",
              "       0., 0., 0., 0., 0., 0., 0., 0., 0., 0., 0., 0., 0., 0., 0., 0., 0.,\n",
              "       0., 0., 1., 0., 0., 0., 0., 0.])"
            ]
          },
          "metadata": {
            "tags": []
          },
          "execution_count": 102
        }
      ]
    },
    {
      "cell_type": "code",
      "metadata": {
        "colab": {
          "base_uri": "https://localhost:8080/"
        },
        "id": "iYP6sgAdmXL1",
        "outputId": "761cb6a5-11fe-485a-8bb1-043bffab93ed"
      },
      "source": [
        "not np.all(album>=1) #álbum está incompleto? Sim, verdadeiro."
      ],
      "execution_count": 105,
      "outputs": [
        {
          "output_type": "execute_result",
          "data": {
            "text/plain": [
              "True"
            ]
          },
          "metadata": {
            "tags": []
          },
          "execution_count": 105
        }
      ]
    },
    {
      "cell_type": "code",
      "metadata": {
        "id": "CNhp3r0EmXSO"
      },
      "source": [
        "\n",
        "\n",
        "\n",
        "#PROGRAMA\n"
      ],
      "execution_count": null,
      "outputs": []
    },
    {
      "cell_type": "code",
      "metadata": {
        "id": "Rtxih1o2mXUt"
      },
      "source": [
        "\n",
        "n_album = 212\n",
        "preco_pacote = 4\n",
        "cromos_pacote = 4\n",
        "preco_album = 10\n",
        "\n",
        "\n",
        "def Simula():\n",
        "\n",
        "  album = np.zeros(n_album)\n",
        "  pacotes = 0\n",
        "\n",
        "  while True:\n",
        "      pacotinho = np.random.choice(np.arange(0, n_album), size = 4)\n",
        "\n",
        "      pacotes += 1\n",
        "\n",
        "      for i in [0,1,2,3]:\n",
        "        album[pacotinho[i]] += 1\n",
        "\n",
        "      if np.all(album >=1):\n",
        "        break\n",
        "    \n",
        "  custo = pacotes*preco_pacote + preco_album\n",
        "  return custo\n",
        "\n",
        "\n"
      ],
      "execution_count": 138,
      "outputs": []
    },
    {
      "cell_type": "code",
      "metadata": {
        "colab": {
          "base_uri": "https://localhost:8080/"
        },
        "id": "CjbJexIaqmhs",
        "outputId": "8d7aac73-d956-4118-f6a9-7fe7db0bf018"
      },
      "source": [
        "Simula()"
      ],
      "execution_count": 139,
      "outputs": [
        {
          "output_type": "execute_result",
          "data": {
            "text/plain": [
              "1722"
            ]
          },
          "metadata": {
            "tags": []
          },
          "execution_count": 139
        }
      ]
    },
    {
      "cell_type": "code",
      "metadata": {
        "id": "NWvEBJghmXYB"
      },
      "source": [
        "#pra saber o valor médio, replicar a simulação algumas vezes e depois tirar o valor médio.\n",
        "\n"
      ],
      "execution_count": 140,
      "outputs": []
    },
    {
      "cell_type": "code",
      "metadata": {
        "colab": {
          "base_uri": "https://localhost:8080/"
        },
        "id": "_dzK_mLsmXZl",
        "outputId": "49552e1a-38ff-4a8b-cb15-307ea53e864c"
      },
      "source": [
        "s= 10\n",
        "\n",
        "resultados = []\n",
        "\n",
        "for i in range(s):\n",
        "  pessoa = Simula()\n",
        "  resultados.append(pessoa)\n",
        "\n",
        "resultados\n",
        "\n",
        "\n",
        "#sim = np.array(resultados).mean()\n",
        "\n"
      ],
      "execution_count": 145,
      "outputs": [
        {
          "output_type": "execute_result",
          "data": {
            "text/plain": [
              "[1290, 1462, 1554, 1122, 1094, 902, 926, 982, 1378, 1062]"
            ]
          },
          "metadata": {
            "tags": []
          },
          "execution_count": 145
        }
      ]
    },
    {
      "cell_type": "code",
      "metadata": {
        "colab": {
          "base_uri": "https://localhost:8080/"
        },
        "id": "2sbwL6wNmXcF",
        "outputId": "4120fda0-c5dc-4832-c955-9c1bf82dd2ff"
      },
      "source": [
        "media = np.array(resultados).mean()\n",
        "media"
      ],
      "execution_count": 147,
      "outputs": [
        {
          "output_type": "execute_result",
          "data": {
            "text/plain": [
              "1177.2"
            ]
          },
          "metadata": {
            "tags": []
          },
          "execution_count": 147
        }
      ]
    },
    {
      "cell_type": "code",
      "metadata": {
        "id": "q5K-lE_6mXeK"
      },
      "source": [
        "#acima valor médio para 10 amostras."
      ],
      "execution_count": null,
      "outputs": []
    },
    {
      "cell_type": "code",
      "metadata": {
        "id": "hV9Ffnv6mXhE"
      },
      "source": [
        "#ok"
      ],
      "execution_count": null,
      "outputs": []
    }
  ]
}